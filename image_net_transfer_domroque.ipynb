{
 "cells": [
  {
   "cell_type": "code",
   "execution_count": 2,
   "metadata": {},
   "outputs": [
    {
     "name": "stderr",
     "output_type": "stream",
     "text": [
      "Using TensorFlow backend.\n"
     ]
    },
    {
     "name": "stdout",
     "output_type": "stream",
     "text": [
      "Couldn't import dot_parser, loading of dot files will not be possible.\n"
     ]
    }
   ],
   "source": [
    "import os\n",
    "import keras\n",
    "import random\n",
    "import numpy as np\n",
    "import sys\n",
    "import operator\n",
    "import math\n",
    "from keras.models import Sequential\n",
    "from keras.layers import Dense, Conv2D, MaxPooling2D, Flatten, GlobalAveragePooling2D, Dropout\n",
    "from keras.applications import MobileNet\n",
    "from keras.applications.mobilenet import preprocess_input\n",
    "from keras.models import Model\n",
    "from keras.optimizers import Adam\n",
    "from keras.models import model_from_json\n",
    "from keras.applications import InceptionResNetV2\n",
    "from keras.applications import VGG16\n",
    "from keras.preprocessing.image import ImageDataGenerator, array_to_img, img_to_array, load_img, save_img\n",
    "\n",
    "import matplotlib.pyplot as plt\n",
    "import itertools\n",
    "from skimage import transform\n",
    "from skimage.io import imread, imsave, imshow\n",
    "from skimage.color import rgb2gray\n",
    "from sklearn.metrics import classification_report, confusion_matrix\n",
    "\n",
    "from sklearn.preprocessing import StandardScaler\n",
    "from sklearn.decomposition import PCA\n",
    "\n",
    "import time\n",
    "\n",
    "current_milli_time = lambda: int(round(time.time() * 1000))"
   ]
  },
  {
   "cell_type": "markdown",
   "metadata": {},
   "source": [
    "## Helper Functions"
   ]
  },
  {
   "cell_type": "code",
   "execution_count": 3,
   "metadata": {},
   "outputs": [],
   "source": [
    "\"\"\"\n",
    "    Preprocess image, normalizing and resizing it\n",
    "\n",
    "    :param frame: RGBA frame\n",
    "\"\"\"    \n",
    "def preprocess_image(frame):\n",
    "    \n",
    "    # Normalize Pixel Values\n",
    "    normalized_frame = frame/255.0 - 0.5\n",
    "    \n",
    "    # Resize\n",
    "    preprocessed_frame = transform.resize(normalized_frame, IMAGE_PP_SIZE)\n",
    "    \n",
    "    # Create a 3-Channel image\n",
    "#     final_image = np.dstack((preprocessed_frame, preprocessed_frame, preprocessed_frame))\n",
    "    \n",
    "    return preprocessed_frame\n",
    "\n",
    "\"\"\"\n",
    "    Create 2D label list from 1D list\n",
    "    \n",
    "    :param labels: 1D label list\n",
    "\"\"\"\n",
    "\n",
    "def make_labels(labels):\n",
    "    np_labels = np.zeros((len(labels), CLASS_NUMBER))\n",
    "    \n",
    "    for i in range(len(labels)):\n",
    "        np_labels[i, labels[i]] = 1\n",
    "    \n",
    "    return np_labels\n",
    "\n",
    "def file_len(fname):\n",
    "    with open(fname) as f:\n",
    "        for i, l in enumerate(f):\n",
    "            pass\n",
    "    return i + 1\n",
    "\n",
    "def choices(l, k=1):\n",
    "    new_list = []\n",
    "    for i in range(k):\n",
    "        new_list.append(random.choice(l))\n",
    "    return new_list\n",
    "\n",
    "def plot_confusion_matrix(cm, classes,\n",
    "                          normalize=False,\n",
    "                          title='Confusion matrix',\n",
    "                          cmap=plt.cm.Blues):\n",
    "    \"\"\"\n",
    "    This function prints and plots the confusion matrix.\n",
    "    Normalization can be applied by setting `normalize=True`.\n",
    "    \"\"\"\n",
    "    if normalize:\n",
    "        cm = cm.astype('float') / cm.sum(axis=1)[:, np.newaxis]\n",
    "\n",
    "#     print(cm)\n",
    "    \n",
    "    plt.figure(num=None, figsize=(8, 6), dpi=80, facecolor='w', edgecolor='k')\n",
    "    plt.imshow(cm, interpolation='nearest', cmap=cmap)\n",
    "    plt.title(title)\n",
    "    plt.colorbar()\n",
    "    tick_marks = np.arange(len(classes))\n",
    "    plt.xticks(tick_marks, classes, rotation=45)\n",
    "    plt.yticks(tick_marks, classes)\n",
    "\n",
    "    fmt = '.2f' if normalize else 'd'\n",
    "    thresh = cm.max() / 2.\n",
    "    for i, j in itertools.product(range(cm.shape[0]), range(cm.shape[1])):\n",
    "        plt.text(j, i, format(cm[i, j], fmt),\n",
    "                 horizontalalignment=\"center\",\n",
    "                 color=\"white\" if cm[i, j] > thresh else \"black\")\n",
    "\n",
    "    plt.ylabel('True label')\n",
    "    plt.xlabel('Predicted label')\n",
    "    plt.tight_layout()"
   ]
  },
  {
   "cell_type": "markdown",
   "metadata": {},
   "source": [
    "## Define Globals"
   ]
  },
  {
   "cell_type": "code",
   "execution_count": 4,
   "metadata": {},
   "outputs": [],
   "source": [
    "IMAGE_PP_SIZE = [150, 150]\n",
    "EPOCHS = 100\n",
    "BATCH_SIZE = 100\n",
    "TRAIN_STEP = 1591\n",
    "VAL_SIZE = 100\n",
    "CLASS_NUMBER = 7\n",
    "\n",
    "RELOAD_MODEL = False\n",
    "\n",
    "DATA_FOLDER_ROOT = \"/media/matheusmortatti/External/dom-roque\"\n",
    "DATA_FOLDER = \"/media/matheusmortatti/External/dom-roque/original\"\n",
    "DATA_FOLDER_PROCESSED = \"/media/matheusmortatti/External/dom-roque/preprocessed\"\n",
    "\n",
    "# Train, Val, Test\n",
    "DATA_RATIO = [0.7, 0.2, 0.1]"
   ]
  },
  {
   "cell_type": "markdown",
   "metadata": {},
   "source": [
    "## DATA PREPROCESSING\n",
    "\n",
    "This cell will take all the images and preprocess it, saving the results onto another folder"
   ]
  },
  {
   "cell_type": "code",
   "execution_count": 13,
   "metadata": {},
   "outputs": [
    {
     "name": "stderr",
     "output_type": "stream",
     "text": [
      "/home/matheusmortatti/.local/lib/python3.5/site-packages/skimage/transform/_warps.py:105: UserWarning: The default mode, 'constant', will be changed to 'reflect' in skimage 0.15.\n",
      "  warn(\"The default mode, 'constant', will be changed to 'reflect' in \"\n",
      "/home/matheusmortatti/.local/lib/python3.5/site-packages/skimage/transform/_warps.py:110: UserWarning: Anti-aliasing will be enabled by default in skimage 0.15 to avoid aliasing artifacts when down-sampling images.\n",
      "  warn(\"Anti-aliasing will be enabled by default in skimage 0.15 to \"\n",
      "/home/matheusmortatti/.local/lib/python3.5/site-packages/skimage/util/dtype.py:141: UserWarning: Possible precision loss when converting from float64 to uint8\n",
      "  .format(dtypeobj_in, dtypeobj_out))\n",
      "/home/matheusmortatti/.local/lib/python3.5/site-packages/skimage/io/_io.py:140: UserWarning: /media/matheusmortatti/External/dom-roque/preprocessed/balancete/DALLEMOLE.jpg is a low contrast image\n",
      "  warn('%s is a low contrast image' % fname)\n",
      "/home/matheusmortatti/.local/lib/python3.5/site-packages/skimage/io/_io.py:140: UserWarning: /media/matheusmortatti/External/dom-roque/preprocessed/balancete/DALLEMOLE_4.jpg is a low contrast image\n",
      "  warn('%s is a low contrast image' % fname)\n",
      "/home/matheusmortatti/.local/lib/python3.5/site-packages/PIL/Image.py:2575: DecompressionBombWarning: Image size (94080000 pixels) exceeds limit of 89478485 pixels, could be decompression bomb DOS attack.\n",
      "  DecompressionBombWarning)\n",
      "/home/matheusmortatti/.local/lib/python3.5/site-packages/skimage/io/_io.py:140: UserWarning: /media/matheusmortatti/External/dom-roque/preprocessed/LA/Energisa01_3.jpg is a low contrast image\n",
      "  warn('%s is a low contrast image' % fname)\n",
      "/home/matheusmortatti/.local/lib/python3.5/site-packages/skimage/io/_io.py:140: UserWarning: /media/matheusmortatti/External/dom-roque/preprocessed/LA/Energisa03_3.jpg is a low contrast image\n",
      "  warn('%s is a low contrast image' % fname)\n",
      "/home/matheusmortatti/.local/lib/python3.5/site-packages/skimage/io/_io.py:140: UserWarning: /media/matheusmortatti/External/dom-roque/preprocessed/LA/Energisa04_3.jpg is a low contrast image\n",
      "  warn('%s is a low contrast image' % fname)\n",
      "/home/matheusmortatti/.local/lib/python3.5/site-packages/skimage/io/_io.py:140: UserWarning: /media/matheusmortatti/External/dom-roque/preprocessed/LA/Energisa12_3.jpg is a low contrast image\n",
      "  warn('%s is a low contrast image' % fname)\n"
     ]
    }
   ],
   "source": [
    "#\n",
    "# If the folder doesn't exists yet, create it and preprocess all images\n",
    "#\n",
    "\n",
    "if not os.path.isdir(DATA_FOLDER_ROOT + '/preprocessed'):\n",
    "    os.mkdir(DATA_FOLDER_ROOT + '/preprocessed')\n",
    "    \n",
    "    labels = os.listdir(DATA_FOLDER)\n",
    "    for label in labels:\n",
    "        folder_path = DATA_FOLDER + '/' + label\n",
    "        if not os.path.isdir(folder_path):\n",
    "            continue\n",
    "        os.mkdir(DATA_FOLDER_PROCESSED + '/' + label)\n",
    "\n",
    "    for label in labels:\n",
    "        folder_path = DATA_FOLDER + '/' + label\n",
    "        if not os.path.isdir(folder_path):\n",
    "            continue\n",
    "\n",
    "        for root, dirs, files in os.walk(folder_path):\n",
    "            for file in files:\n",
    "                if file.split('.')[-1] != \"jpg\":\n",
    "                    continue\n",
    "                img_path = os.path.join(root, file)\n",
    "                img = imread(img_path)\n",
    "                x = preprocess_image(img)\n",
    "#                 x = array_to_img(x)\n",
    "#                 save_img(DATA_FOLDER_PROCESSED + '/' + label + '/' + file, x)\n",
    "                imsave(DATA_FOLDER_PROCESSED + '/' + label + '/' + file, x)"
   ]
  },
  {
   "cell_type": "markdown",
   "metadata": {},
   "source": [
    "## DATA AUGMENTATION\n",
    "\n",
    "Running this cell will take your data folder and augment all the files within it.\n",
    "\n",
    "DO NOT RUN THIS CELL TWICE"
   ]
  },
  {
   "cell_type": "code",
   "execution_count": 5,
   "metadata": {},
   "outputs": [
    {
     "name": "stdout",
     "output_type": "stream",
     "text": [
      "1654\n",
      "\n",
      "7\n",
      "236\n",
      "\n",
      "/media/matheusmortatti/External/dom-roque/original/nf\n",
      "/media/matheusmortatti/External/dom-roque/original/nf/NF-E\n",
      "/media/matheusmortatti/External/dom-roque/original/nf/NFS\n"
     ]
    }
   ],
   "source": [
    "#\n",
    "# Create more data\n",
    "#\n",
    "\n",
    "folder = DATA_FOLDER\n",
    "\n",
    "datagen = ImageDataGenerator(rotation_range=5,\n",
    "                             width_shift_range=0.05,\n",
    "                             height_shift_range=0.05,\n",
    "                             shear_range=0,\n",
    "                             zoom_range=0.01)\n",
    "\n",
    "labels = os.listdir(folder)\n",
    "label_count = {}\n",
    "\n",
    "for label in labels:\n",
    "    folder_path = folder + '/' + label\n",
    "    if not os.path.isdir(folder_path):\n",
    "        continue\n",
    "\n",
    "    for root, dirs, files in os.walk(folder_path):\n",
    "        if label not in label_count:\n",
    "            label_count[label] = 0\n",
    "        label_count[label] += len(files)\n",
    "\n",
    "label_max = max(zip(label_count.values(), label_count.keys()))[0]\n",
    "print(label_max)\n",
    "print()\n",
    "\n",
    "for label in labels:\n",
    "    folder_path = folder + '/' + label\n",
    "    if not os.path.isdir(folder_path):\n",
    "        continue\n",
    "    \n",
    "    \n",
    "    if not os.path.isdir(folder_path + '/augmented'):\n",
    "        os.mkdir(folder_path + '/augmented')\n",
    "    else:\n",
    "        continue\n",
    "        \n",
    "    amount = math.ceil(label_max / label_count[label]) - 1\n",
    "    print(label_count[label])\n",
    "    print(amount)\n",
    "    print()\n",
    "\n",
    "    for root, dirs, files in os.walk(folder_path):\n",
    "        \n",
    "        if 'augmented' in root:\n",
    "            continue\n",
    "            \n",
    "        print(root)\n",
    "        \n",
    "        for file in files:\n",
    "            if file.split('.')[-1] != \"jpg\":\n",
    "                continue\n",
    "            img_path = os.path.join(root, file)\n",
    "            img = load_img(img_path)\n",
    "            x = img_to_array(img)  # this is a Numpy array with shape (3, 150, 150)\n",
    "            x = x.reshape((1,) + x.shape)  # this is a Numpy array with shape (1, 3, 150, 150)\n",
    "\n",
    "            i = 0\n",
    "            for batch in datagen.flow(x, \n",
    "                                      batch_size=1,\n",
    "                                      save_to_dir=folder_path + '/augmented', \n",
    "                                      save_prefix='_' + str(current_milli_time()), \n",
    "                                      save_format='jpg'):\n",
    "                i += 1\n",
    "                if i >= amount:\n",
    "                    break  # otherwise the generator would loop indefinitely"
   ]
  },
  {
   "cell_type": "markdown",
   "metadata": {},
   "source": [
    "## Create Labels File"
   ]
  },
  {
   "cell_type": "code",
   "execution_count": 6,
   "metadata": {},
   "outputs": [
    {
     "name": "stdout",
     "output_type": "stream",
     "text": [
      "balancete 173\n",
      "balancete 1211\n",
      "balanco 281\n",
      "balanco 1123\n",
      "contas 55\n",
      "contas 1319\n",
      "dre 37\n",
      "dre 20\n",
      "dre 1367\n",
      "LA 209\n",
      "LA 0\n",
      "LA 60\n",
      "LA 60\n",
      "LA 60\n",
      "LA 55\n",
      "LA 0\n",
      "LA 60\n",
      "LA 60\n",
      "LA 60\n",
      "LA 55\n",
      "LA 0\n",
      "LA 24\n",
      "LA 24\n",
      "LA 24\n",
      "LA 22\n",
      "LA 0\n",
      "LA 55\n",
      "LA 60\n",
      "LA 60\n",
      "LA 55\n",
      "LA 60\n",
      "LA 60\n",
      "LA 60\n",
      "LA 60\n",
      "LA 60\n",
      "LA 35\n",
      "LA 35\n",
      "LA 281\n",
      "LB 79\n",
      "LB 24\n",
      "LB 0\n",
      "LB 24\n",
      "LB 24\n",
      "LB 24\n",
      "LB 22\n",
      "LB 24\n",
      "LB 24\n",
      "LB 22\n",
      "LB 24\n",
      "LB 14\n",
      "LB 24\n",
      "LB 24\n",
      "LB 1268\n",
      "nf 7\n",
      "nf 1628\n",
      "nf 0\n",
      "nf 0\n"
     ]
    }
   ],
   "source": [
    "folder = DATA_FOLDER\n",
    "\n",
    "def choices(l, k):\n",
    "    c = []\n",
    "    for i in range(k):\n",
    "        el = random.choice(l)\n",
    "        c.append(el)\n",
    "        l.remove(el)\n",
    "    return c, l\n",
    "\n",
    "labels = os.listdir(folder)\n",
    "\n",
    "i = 0\n",
    "train = []\n",
    "test = []\n",
    "val = []\n",
    "for label in labels:\n",
    "    if not os.path.isdir(folder + '/' + label):\n",
    "        continue\n",
    "\n",
    "    for root, dirs, files in os.walk(folder + '/' + label):\n",
    "        f = []\n",
    "        for file in files:\n",
    "            if ('jpg' not in file) and ('jpeg' not in file):\n",
    "                continue\n",
    "            f.append(file)\n",
    "            \n",
    "        n = len(f)\n",
    "        n_train = int(DATA_RATIO[0] * n)\n",
    "        n_val = int(DATA_RATIO[1] * n)\n",
    "        n_test = int(DATA_RATIO[2] * n)\n",
    "\n",
    "        lt, f = choices(f, n_train)\n",
    "        for l in lt:\n",
    "            train.append(os.path.join(root, l) + \" \" + str(i) + \" \" + label + \"\\n\")\n",
    "\n",
    "        lt, f = choices(f, n_val)\n",
    "        for l in lt:\n",
    "            l = l.replace(' ', '\\ ')\n",
    "            val.append(os.path.join(root, l) + \" \" + str(i) + \" \" + label + \"\\n\")\n",
    "\n",
    "        lt, f = choices(f, n_test)\n",
    "        for l in lt:\n",
    "            l = l.replace(' ', '\\ ')\n",
    "            test.append(os.path.join(root, l) + \" \" + str(i) + \" \" + label + \"\\n\")\n",
    "\n",
    "        \n",
    "\n",
    "    i += 1\n",
    "\n",
    "random.shuffle(train)\n",
    "random.shuffle(val)\n",
    "random.shuffle(test)\n",
    "\n",
    "with open(folder + '/' + 'labels_train.txt', 'a') as f:\n",
    "    for l in train:\n",
    "        f.write(l)\n",
    "\n",
    "with open(folder + '/' + 'labels_val.txt', 'a') as f:\n",
    "    for l in val:\n",
    "        f.write(l)\n",
    "\n",
    "with open(folder + '/' + 'labels_test.txt', 'a') as f:\n",
    "    for l in test:\n",
    "        f.write(l)"
   ]
  },
  {
   "cell_type": "markdown",
   "metadata": {},
   "source": [
    "## Load Model or Create it"
   ]
  },
  {
   "cell_type": "code",
   "execution_count": 5,
   "metadata": {},
   "outputs": [],
   "source": [
    "if RELOAD_MODEL:\n",
    "    try:\n",
    "        json_file = open('model_imgnet_domroque.json', 'r')\n",
    "        loaded_model_json = json_file.read()\n",
    "        json_file.close()\n",
    "        model = model_from_json(loaded_model_json)\n",
    "        # load weights into new model\n",
    "        model.load_weights(\"model_imgnet_domroque.h5\")\n",
    "    except:\n",
    "        conv_base = VGG16(weights='imagenet', include_top=False, input_shape=(150,150,3))\n",
    "        conv_base.traiable = False\n",
    "        model = Sequential()\n",
    "        model.add(conv_base)\n",
    "        model.add(Flatten())\n",
    "        model.add(Dense(1024, activation='relu'))\n",
    "        model.add(Dense(1024, activation='relu'))\n",
    "        model.add(Dense(512, activation='relu'))\n",
    "        model.add(Dense(CLASS_NUMBER, activation='softmax'))\n",
    "else:\n",
    "    conv_base = VGG16(weights='imagenet', include_top=False, input_shape=(150,150,3))\n",
    "    conv_base.traiable = False\n",
    "    model = Sequential()\n",
    "    model.add(conv_base)\n",
    "    model.add(Flatten())\n",
    "    model.add(Dense(512, activation='relu'))\n",
    "    model.add(Dense(CLASS_NUMBER, activation='softmax'))\n",
    "    \n",
    "model.compile(loss=keras.losses.categorical_crossentropy,\n",
    "              optimizer=keras.optimizers.SGD(lr=0.01),\n",
    "              metrics=['accuracy'])"
   ]
  },
  {
   "cell_type": "code",
   "execution_count": 6,
   "metadata": {},
   "outputs": [
    {
     "name": "stderr",
     "output_type": "stream",
     "text": [
      "/home/matheusmortatti/.local/lib/python3.5/site-packages/skimage/transform/_warps.py:105: UserWarning: The default mode, 'constant', will be changed to 'reflect' in skimage 0.15.\n",
      "  warn(\"The default mode, 'constant', will be changed to 'reflect' in \"\n",
      "/home/matheusmortatti/.local/lib/python3.5/site-packages/skimage/transform/_warps.py:110: UserWarning: Anti-aliasing will be enabled by default in skimage 0.15 to avoid aliasing artifacts when down-sampling images.\n",
      "  warn(\"Anti-aliasing will be enabled by default in skimage 0.15 to \"\n",
      "/home/matheusmortatti/.local/lib/python3.5/site-packages/PIL/Image.py:2575: DecompressionBombWarning: Image size (94080000 pixels) exceeds limit of 89478485 pixels, could be decompression bomb DOS attack.\n",
      "  DecompressionBombWarning)\n"
     ]
    }
   ],
   "source": [
    "\n",
    "#\n",
    "# Define train, validation and test lists\n",
    "#\n",
    "\n",
    "folder = DATA_FOLDER\n",
    "\n",
    "train_labels = []\n",
    "val_labels = []\n",
    "test_labels = []\n",
    "\n",
    "train_input = []\n",
    "val_input = []\n",
    "test_input = []\n",
    "\n",
    "#\n",
    "# Load validation dataset\n",
    "#\n",
    "\n",
    "labels_file = open(folder + \"/labels_val.txt\")\n",
    "\n",
    "\n",
    "for line in labels_file:\n",
    "    sp = line.split()\n",
    "    \n",
    "    img = imread(sp[0])\n",
    "    img = preprocess_image(img)\n",
    "    \n",
    "    val_input.append(img)\n",
    "    val_labels.append(int(sp[1]))\n",
    "\n",
    "x_val = np.asarray(val_input)\n",
    "y_val = make_labels(val_labels)\n",
    "    \n",
    "labels_file.close()\n",
    "\n",
    "#\n",
    "# Load training dataset\n",
    "#\n",
    "    \n",
    "labels_file = open(folder + \"/labels_train.txt\")\n",
    "    \n",
    "for line in labels_file:\n",
    "    sp = line.split()\n",
    "    \n",
    "    img = imread(sp[0])\n",
    "    img = preprocess_image(img)\n",
    "    \n",
    "    train_input.append(img)\n",
    "    train_labels.append(int(sp[1]))\n",
    "\n",
    "x_train = np.asarray(train_input)\n",
    "y_train = make_labels(train_labels)\n",
    "    \n",
    "labels_file.close()"
   ]
  },
  {
   "cell_type": "markdown",
   "metadata": {},
   "source": [
    "## PCA Analisys"
   ]
  },
  {
   "cell_type": "code",
   "execution_count": 7,
   "metadata": {},
   "outputs": [
    {
     "name": "stdout",
     "output_type": "stream",
     "text": [
      "(7325, 150, 150, 3)\n"
     ]
    },
    {
     "data": {
      "text/plain": [
       "Text(0,0.5,'Cumulative explained variance')"
      ]
     },
     "execution_count": 7,
     "metadata": {},
     "output_type": "execute_result"
    },
    {
     "data": {
      "image/png": "[encoded data removed]",
      "text/plain": [
       "<Figure size 432x288 with 1 Axes>"
      ]
     },
     "metadata": {},
     "output_type": "display_data"
    }
   ],
   "source": [
    "print(x_train.shape)\n",
    "X_train = StandardScaler().fit_transform(x_train[:2000].reshape(2000, 150*150*3))\n",
    "pca = PCA(0.95)\n",
    "pca.fit(X_train)\n",
    "\n",
    "plt.plot(np.cumsum(pca.explained_variance_ratio_))\n",
    "plt.xlabel('Number of components')\n",
    "plt.ylabel('Cumulative explained variance')"
   ]
  },
  {
   "cell_type": "code",
   "execution_count": 15,
   "metadata": {},
   "outputs": [],
   "source": [
    "xp_train = pca.transform(x_train[:2000].reshape(2000, 150*150*3))"
   ]
  },
  {
   "cell_type": "markdown",
   "metadata": {},
   "source": [
    "## Train!"
   ]
  },
  {
   "cell_type": "code",
   "execution_count": 16,
   "metadata": {},
   "outputs": [
    {
     "ename": "ValueError",
     "evalue": "Error when checking input: expected vgg16_input to have 4 dimensions, but got array with shape (2000, 1276)",
     "output_type": "error",
     "traceback": [
      "\u001b[0;31m---------------------------------------------------------------------------\u001b[0m",
      "\u001b[0;31mValueError\u001b[0m                                Traceback (most recent call last)",
      "\u001b[0;32m<ipython-input-16-fddce221e2c8>\u001b[0m in \u001b[0;36m<module>\u001b[0;34m()\u001b[0m\n\u001b[1;32m      7\u001b[0m           \u001b[0mverbose\u001b[0m\u001b[0;34m=\u001b[0m\u001b[0;36m1\u001b[0m\u001b[0;34m,\u001b[0m\u001b[0;34m\u001b[0m\u001b[0m\n\u001b[1;32m      8\u001b[0m           \u001b[0mvalidation_data\u001b[0m\u001b[0;34m=\u001b[0m\u001b[0;34m(\u001b[0m\u001b[0mx_val\u001b[0m\u001b[0;34m,\u001b[0m \u001b[0my_val\u001b[0m\u001b[0;34m)\u001b[0m\u001b[0;34m,\u001b[0m\u001b[0;34m\u001b[0m\u001b[0m\n\u001b[0;32m----> 9\u001b[0;31m           callbacks=[tbCallback])\n\u001b[0m",
      "\u001b[0;32m~/.local/lib/python3.5/site-packages/keras/engine/training.py\u001b[0m in \u001b[0;36mfit\u001b[0;34m(self, x, y, batch_size, epochs, verbose, callbacks, validation_split, validation_data, shuffle, class_weight, sample_weight, initial_epoch, steps_per_epoch, validation_steps, **kwargs)\u001b[0m\n\u001b[1;32m    950\u001b[0m             \u001b[0msample_weight\u001b[0m\u001b[0;34m=\u001b[0m\u001b[0msample_weight\u001b[0m\u001b[0;34m,\u001b[0m\u001b[0;34m\u001b[0m\u001b[0m\n\u001b[1;32m    951\u001b[0m             \u001b[0mclass_weight\u001b[0m\u001b[0;34m=\u001b[0m\u001b[0mclass_weight\u001b[0m\u001b[0;34m,\u001b[0m\u001b[0;34m\u001b[0m\u001b[0m\n\u001b[0;32m--> 952\u001b[0;31m             batch_size=batch_size)\n\u001b[0m\u001b[1;32m    953\u001b[0m         \u001b[0;31m# Prepare validation data.\u001b[0m\u001b[0;34m\u001b[0m\u001b[0;34m\u001b[0m\u001b[0m\n\u001b[1;32m    954\u001b[0m         \u001b[0mdo_validation\u001b[0m \u001b[0;34m=\u001b[0m \u001b[0;32mFalse\u001b[0m\u001b[0;34m\u001b[0m\u001b[0m\n",
      "\u001b[0;32m~/.local/lib/python3.5/site-packages/keras/engine/training.py\u001b[0m in \u001b[0;36m_standardize_user_data\u001b[0;34m(self, x, y, sample_weight, class_weight, check_array_lengths, batch_size)\u001b[0m\n\u001b[1;32m    749\u001b[0m             \u001b[0mfeed_input_shapes\u001b[0m\u001b[0;34m,\u001b[0m\u001b[0;34m\u001b[0m\u001b[0m\n\u001b[1;32m    750\u001b[0m             \u001b[0mcheck_batch_axis\u001b[0m\u001b[0;34m=\u001b[0m\u001b[0;32mFalse\u001b[0m\u001b[0;34m,\u001b[0m  \u001b[0;31m# Don't enforce the batch size.\u001b[0m\u001b[0;34m\u001b[0m\u001b[0m\n\u001b[0;32m--> 751\u001b[0;31m             exception_prefix='input')\n\u001b[0m\u001b[1;32m    752\u001b[0m \u001b[0;34m\u001b[0m\u001b[0m\n\u001b[1;32m    753\u001b[0m         \u001b[0;32mif\u001b[0m \u001b[0my\u001b[0m \u001b[0;32mis\u001b[0m \u001b[0;32mnot\u001b[0m \u001b[0;32mNone\u001b[0m\u001b[0;34m:\u001b[0m\u001b[0;34m\u001b[0m\u001b[0m\n",
      "\u001b[0;32m~/.local/lib/python3.5/site-packages/keras/engine/training_utils.py\u001b[0m in \u001b[0;36mstandardize_input_data\u001b[0;34m(data, names, shapes, check_batch_axis, exception_prefix)\u001b[0m\n\u001b[1;32m    126\u001b[0m                         \u001b[0;34m': expected '\u001b[0m \u001b[0;34m+\u001b[0m \u001b[0mnames\u001b[0m\u001b[0;34m[\u001b[0m\u001b[0mi\u001b[0m\u001b[0;34m]\u001b[0m \u001b[0;34m+\u001b[0m \u001b[0;34m' to have '\u001b[0m \u001b[0;34m+\u001b[0m\u001b[0;34m\u001b[0m\u001b[0m\n\u001b[1;32m    127\u001b[0m                         \u001b[0mstr\u001b[0m\u001b[0;34m(\u001b[0m\u001b[0mlen\u001b[0m\u001b[0;34m(\u001b[0m\u001b[0mshape\u001b[0m\u001b[0;34m)\u001b[0m\u001b[0;34m)\u001b[0m \u001b[0;34m+\u001b[0m \u001b[0;34m' dimensions, but got array '\u001b[0m\u001b[0;34m\u001b[0m\u001b[0m\n\u001b[0;32m--> 128\u001b[0;31m                         'with shape ' + str(data_shape))\n\u001b[0m\u001b[1;32m    129\u001b[0m                 \u001b[0;32mif\u001b[0m \u001b[0;32mnot\u001b[0m \u001b[0mcheck_batch_axis\u001b[0m\u001b[0;34m:\u001b[0m\u001b[0;34m\u001b[0m\u001b[0m\n\u001b[1;32m    130\u001b[0m                     \u001b[0mdata_shape\u001b[0m \u001b[0;34m=\u001b[0m \u001b[0mdata_shape\u001b[0m\u001b[0;34m[\u001b[0m\u001b[0;36m1\u001b[0m\u001b[0;34m:\u001b[0m\u001b[0;34m]\u001b[0m\u001b[0;34m\u001b[0m\u001b[0m\n",
      "\u001b[0;31mValueError\u001b[0m: Error when checking input: expected vgg16_input to have 4 dimensions, but got array with shape (2000, 1276)"
     ]
    }
   ],
   "source": [
    "tbCallback = keras.callbacks.TensorBoard(log_dir='./logs/imgnet_domroque', histogram_freq=0,  \n",
    "          write_graph=True, write_images=True)\n",
    "\n",
    "model.fit(xp_train, y_train,\n",
    "          batch_size=BATCH_SIZE,\n",
    "          epochs=EPOCHS,\n",
    "          verbose=1,\n",
    "          validation_data=(x_val, y_val),\n",
    "          callbacks=[tbCallback])"
   ]
  },
  {
   "cell_type": "code",
   "execution_count": 11,
   "metadata": {},
   "outputs": [
    {
     "data": {
      "text/plain": [
       "<keras.callbacks.TensorBoard at 0x7ff37f238d30>"
      ]
     },
     "execution_count": 11,
     "metadata": {},
     "output_type": "execute_result"
    }
   ],
   "source": [
    "#\n",
    "# SAVE MODEL STRUCTURE AND WEIGHTS\n",
    "#\n",
    "\n",
    "model_json = model.to_json()\n",
    "with open(\"model_imgnet_domroque.json\", \"w\") as json_file:\n",
    "    json_file.write(model_json)\n",
    "\n",
    "model.save_weights(\"model_imgnet_domroque.h5\")\n",
    "\n",
    "keras.callbacks.TensorBoard('./logs/imgnet_domroque')"
   ]
  },
  {
   "cell_type": "code",
   "execution_count": null,
   "metadata": {},
   "outputs": [],
   "source": [
    "#\n",
    "# RELOAD VALIDATION DATA IF NECESSARY\n",
    "#\n",
    "\n",
    "val_input = []\n",
    "val_labels = []\n",
    "\n",
    "labels_file = open(DATA_FOLDER + \"/labels_val.txt\")\n",
    "\n",
    "for line in labels_file:\n",
    "    sp = line.split()\n",
    "    \n",
    "    val_input.append(preprocess_image(imread(DATA_FOLDER + sp[0][1:])))\n",
    "    val_labels.append(int(sp[1]))\n",
    "\n",
    "x_val = np.asarray(val_input)\n",
    "y_true = np.asarray(val_labels)\n",
    "    \n",
    "labels_file.close()"
   ]
  },
  {
   "cell_type": "markdown",
   "metadata": {},
   "source": [
    "## Predict Validation Results"
   ]
  },
  {
   "cell_type": "code",
   "execution_count": 12,
   "metadata": {},
   "outputs": [],
   "source": [
    "y_pred = model.predict_classes(x_val)"
   ]
  },
  {
   "cell_type": "markdown",
   "metadata": {},
   "source": [
    "## Plot Confusion Matrix and Report"
   ]
  },
  {
   "cell_type": "code",
   "execution_count": 13,
   "metadata": {},
   "outputs": [
    {
     "name": "stdout",
     "output_type": "stream",
     "text": [
      "              precision    recall  f1-score   support\n",
      "\n",
      "           0       1.00      1.00      1.00       276\n",
      "           1       0.99      0.98      0.99       280\n",
      "           2       1.00      1.00      1.00       274\n",
      "           3       0.98      1.00      0.99       284\n",
      "           4       1.00      0.96      0.98       327\n",
      "           5       0.96      1.00      0.98       314\n",
      "           6       1.00      1.00      1.00       326\n",
      "\n",
      "   micro avg       0.99      0.99      0.99      2081\n",
      "   macro avg       0.99      0.99      0.99      2081\n",
      "weighted avg       0.99      0.99      0.99      2081\n",
      "\n"
     ]
    },
    {
     "data": {
      "image/png": "[encoded data removed]",
      "text/plain": [
       "<Figure size 640x480 with 2 Axes>"
      ]
     },
     "metadata": {},
     "output_type": "display_data"
    }
   ],
   "source": [
    "labels_text = [\"Balancete\", \"Balanco\", \"Contas\", \"DRE\", \"Luz A\", \"Luz B\", \"Nota Fiscal\"]\n",
    "y_true = np.asarray(val_labels)\n",
    "\n",
    "plot_confusion_matrix(confusion_matrix(y_true, y_pred), labels_text)\n",
    "print(classification_report(y_true, y_pred))"
   ]
  },
  {
   "cell_type": "code",
   "execution_count": null,
   "metadata": {},
   "outputs": [],
   "source": []
  },
  {
   "cell_type": "code",
   "execution_count": null,
   "metadata": {},
   "outputs": [],
   "source": []
  }
 ],
 "metadata": {
  "kernelspec": {
   "display_name": "Python 3",
   "language": "python",
   "name": "python3"
  },
  "language_info": {
   "codemirror_mode": {
    "name": "ipython",
    "version": 3
   },
   "file_extension": ".py",
   "mimetype": "text/x-python",
   "name": "python",
   "nbconvert_exporter": "python",
   "pygments_lexer": "ipython3",
   "version": "3.5.2"
  }
 },
 "nbformat": 4,
 "nbformat_minor": 2
}
